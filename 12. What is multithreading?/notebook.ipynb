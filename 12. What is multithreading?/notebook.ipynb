{
 "cells": [
  {
   "cell_type": "markdown",
   "metadata": {},
   "source": [
    "# Multithreading\n",
    "\n",
    "A **thread** is an entity within a process that can be scheduled for execution. Also, it is the smallest unit of processing that can be performed in an OS (Operating System).\n",
    "\n",
    "In simple words, a thread is a sequence of such instructions within a program that can be executed independently of other code. For simplicity, you can assume that a thread is simply a subset of a process!\n",
    "\n",
    "-----------\n",
    "\n",
    "Multiple threads can exist within one process where:\n",
    "\n",
    "- Each thread contains its own register set and local variables (stored in stack).\n",
    "- All thread of a process share global variables (stored in heap) and the program code.\n",
    "\n",
    "![](https://i2.wp.com/contribute.geeksforgeeks.org/wp-content/uploads/single-and-multithreaded-process.png)\n",
    "\n",
    "> Multithreading is defined as the ability of a processor to execute multiple threads concurrently.\n",
    "\n",
    "![](https://i1.wp.com/contribute.geeksforgeeks.org/wp-content/uploads/thread.png)"
   ]
  }
 ],
 "metadata": {
  "kernelspec": {
   "display_name": "Python 3",
   "language": "python",
   "name": "python3"
  },
  "language_info": {
   "codemirror_mode": {
    "name": "ipython",
    "version": 3
   },
   "file_extension": ".py",
   "mimetype": "text/x-python",
   "name": "python",
   "nbconvert_exporter": "python",
   "pygments_lexer": "ipython3",
   "version": "3.6.7"
  }
 },
 "nbformat": 4,
 "nbformat_minor": 2
}
