{
 "cells": [
  {
   "cell_type": "markdown",
   "metadata": {},
   "source": [
    "## Thread synchronization\n",
    "\n",
    "![](https://i1.wp.com/contribute.geeksforgeeks.org/wp-content/uploads/critical_section.png)"
   ]
  },
  {
   "cell_type": "code",
   "execution_count": 1,
   "metadata": {},
   "outputs": [],
   "source": [
    "import threading"
   ]
  },
  {
   "cell_type": "code",
   "execution_count": 2,
   "metadata": {},
   "outputs": [],
   "source": [
    "x = 0"
   ]
  },
  {
   "cell_type": "code",
   "execution_count": 3,
   "metadata": {},
   "outputs": [],
   "source": [
    "def increment():\n",
    "    global x\n",
    "    x += 1"
   ]
  },
  {
   "cell_type": "code",
   "execution_count": 4,
   "metadata": {},
   "outputs": [],
   "source": [
    "def thread_task(lock):\n",
    "    for _ in range(100000):\n",
    "        lock.acquire()\n",
    "        increment()\n",
    "        lock.release()"
   ]
  },
  {
   "cell_type": "code",
   "execution_count": 5,
   "metadata": {},
   "outputs": [],
   "source": [
    "def main_task():\n",
    "    global x\n",
    "\n",
    "    x = 0\n",
    "    \n",
    "    lock = threading.Lock()\n",
    "    \n",
    "    t1 = threading.Thread(target=thread_task, args=(lock,))\n",
    "    t2 = threading.Thread(target=thread_task, args=(lock,))\n",
    "\n",
    "    t1.start()\n",
    "    t2.start()\n",
    "\n",
    "    t1.join()\n",
    "    t2.join()"
   ]
  },
  {
   "cell_type": "code",
   "execution_count": 6,
   "metadata": {},
   "outputs": [
    {
     "name": "stdout",
     "output_type": "stream",
     "text": [
      "Iteration 0: x = 200000\n",
      "Iteration 1: x = 200000\n",
      "Iteration 2: x = 200000\n",
      "Iteration 3: x = 200000\n",
      "Iteration 4: x = 200000\n",
      "Iteration 5: x = 200000\n",
      "Iteration 6: x = 200000\n",
      "Iteration 7: x = 200000\n",
      "Iteration 8: x = 200000\n",
      "Iteration 9: x = 200000\n"
     ]
    }
   ],
   "source": [
    "for i in range(10):\n",
    "    main_task()\n",
    "    print(\"Iteration {0}: x = {1}\".format(i,x))"
   ]
  },
  {
   "cell_type": "markdown",
   "metadata": {},
   "source": [
    "## Race condition: \n",
    "![](https://i2.wp.com/contribute.geeksforgeeks.org/wp-content/uploads/race_condition.png)\n",
    "\n",
    "## Locking:\n",
    "![](https://i0.wp.com/contribute.geeksforgeeks.org/wp-content/uploads/thread_sync.png)"
   ]
  }
 ],
 "metadata": {
  "kernelspec": {
   "display_name": "Python 3",
   "language": "python",
   "name": "python3"
  },
  "language_info": {
   "codemirror_mode": {
    "name": "ipython",
    "version": 3
   },
   "file_extension": ".py",
   "mimetype": "text/x-python",
   "name": "python",
   "nbconvert_exporter": "python",
   "pygments_lexer": "ipython3",
   "version": "3.6.7"
  }
 },
 "nbformat": 4,
 "nbformat_minor": 2
}
