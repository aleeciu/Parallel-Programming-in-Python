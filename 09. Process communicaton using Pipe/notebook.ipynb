{
 "cells": [
  {
   "cell_type": "markdown",
   "metadata": {},
   "source": [
    "## Method 2: Pipe\n",
    "\n",
    "- A Pipe() can only have two endpoints.\n",
    "\n",
    "- A Queue() can have multiple producers and consumers.\n",
    "\n",
    "- If you need more than two points to communicate, use a Queue().\n",
    "\n",
    "- If you need absolute performance, a Pipe() is much faster because Queue() is built on top of Pipe()."
   ]
  },
  {
   "cell_type": "code",
   "execution_count": 1,
   "metadata": {},
   "outputs": [],
   "source": [
    "import multiprocessing"
   ]
  },
  {
   "cell_type": "code",
   "execution_count": 2,
   "metadata": {},
   "outputs": [],
   "source": [
    "def send_msgs(conn, msgs):\n",
    "    for msg in msgs:\n",
    "        conn.send(msg)\n",
    "    conn.close()\n",
    "    \n",
    "def recv_msg(conn):\n",
    "    while 1:\n",
    "        msg = conn.recv()\n",
    "        if msg == \"END\":\n",
    "            break\n",
    "        print(msg)"
   ]
  },
  {
   "cell_type": "code",
   "execution_count": 3,
   "metadata": {},
   "outputs": [],
   "source": [
    "msgs = [\"Hey\", \"Hello\", \"Hru?\", \"END\"]"
   ]
  },
  {
   "cell_type": "code",
   "execution_count": 4,
   "metadata": {},
   "outputs": [],
   "source": [
    "parent_conn, child_conn = multiprocessing.Pipe()"
   ]
  },
  {
   "cell_type": "code",
   "execution_count": 5,
   "metadata": {},
   "outputs": [],
   "source": [
    "p1 = multiprocessing.Process(target=send_msgs, args=(parent_conn, msgs))\n",
    "p2 = multiprocessing.Process(target=recv_msg, args=(child_conn,))"
   ]
  },
  {
   "cell_type": "code",
   "execution_count": 6,
   "metadata": {},
   "outputs": [
    {
     "name": "stdout",
     "output_type": "stream",
     "text": [
      "Hey\n",
      "Hello\n",
      "Hru?\n"
     ]
    }
   ],
   "source": [
    "p1.start()\n",
    "p2.start()\n",
    "\n",
    "p1.join()\n",
    "p2.join()"
   ]
  },
  {
   "cell_type": "markdown",
   "metadata": {},
   "source": [
    "![](https://i1.wp.com/contribute.geeksforgeeks.org/wp-content/uploads/pipe.png)\n",
    "\n",
    "\n",
    ">Data in a pipe may become corrupted if two processes (or threads) try to read from or write to the same end of the pipe at the same time. Of course there is no risk of corruption from processes using different ends of the pipe at the same time. Also note that, Queues do proper synchronization between processes, at the expense of more complexity. Hence, queues are said to be thread and process safe!"
   ]
  }
 ],
 "metadata": {
  "kernelspec": {
   "display_name": "Python 3",
   "language": "python",
   "name": "python3"
  },
  "language_info": {
   "codemirror_mode": {
    "name": "ipython",
    "version": 3
   },
   "file_extension": ".py",
   "mimetype": "text/x-python",
   "name": "python",
   "nbconvert_exporter": "python",
   "pygments_lexer": "ipython3",
   "version": "3.6.7"
  }
 },
 "nbformat": 4,
 "nbformat_minor": 2
}
