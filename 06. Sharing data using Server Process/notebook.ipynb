{
 "cells": [
  {
   "cell_type": "markdown",
   "metadata": {},
   "source": [
    "## Method 2: Server Process\n",
    "\n",
    "> Whenever a python program starts, a **server process** is also started. From there on, whenever a new process is needed, the parent process connects to the server and requests it to fork a new process.\n",
    "A server process can hold Python objects and allows other processes to manipulate them using proxies.\n",
    "\n",
    "\n",
    "> multiprocessing module provides a **Manager** class which controls a server process. Hence, managers provide a way to create data which can be shared between different processes."
   ]
  },
  {
   "cell_type": "code",
   "execution_count": 1,
   "metadata": {},
   "outputs": [],
   "source": [
    "import multiprocessing"
   ]
  },
  {
   "cell_type": "code",
   "execution_count": 2,
   "metadata": {},
   "outputs": [],
   "source": [
    "def print_records(records):\n",
    "    for record in records:\n",
    "        print(\"Name: {0}\\nScore: {1}\\n\".format(record[0], record[1]))\n",
    "\n",
    "def insert_record(record, records):\n",
    "    records.append(record)\n",
    "    print(\"New record added!\\n\")"
   ]
  },
  {
   "cell_type": "code",
   "execution_count": 3,
   "metadata": {},
   "outputs": [
    {
     "name": "stdout",
     "output_type": "stream",
     "text": [
      "New record added!\n",
      "\n",
      "Name: Sam\n",
      "Score: 10\n",
      "\n",
      "Name: Adam\n",
      "Score: 9\n",
      "\n",
      "Name: Kevin\n",
      "Score: 9\n",
      "\n",
      "Name: Jeff\n",
      "Score: 8\n",
      "\n"
     ]
    }
   ],
   "source": [
    "with multiprocessing.Manager() as manager:\n",
    "    records = manager.list([('Sam', 10), ('Adam', 9), ('Kevin',9)])\n",
    "    new_record = ('Jeff', 8)\n",
    "\n",
    "    p1 = multiprocessing.Process(target=insert_record, args=(new_record, records))\n",
    "    p2 = multiprocessing.Process(target=print_records, args=(records,))\n",
    "    \n",
    "    p1.start()\n",
    "    p1.join()\n",
    "    \n",
    "    p2.start()\n",
    "    p2.join()"
   ]
  },
  {
   "cell_type": "markdown",
   "metadata": {},
   "source": [
    "![](https://i1.wp.com/contribute.geeksforgeeks.org/wp-content/uploads/server_process.png)"
   ]
  }
 ],
 "metadata": {
  "kernelspec": {
   "display_name": "Python 3",
   "language": "python",
   "name": "python3"
  },
  "language_info": {
   "codemirror_mode": {
    "name": "ipython",
    "version": 3
   },
   "file_extension": ".py",
   "mimetype": "text/x-python",
   "name": "python",
   "nbconvert_exporter": "python",
   "pygments_lexer": "ipython3",
   "version": "3.6.7"
  }
 },
 "nbformat": 4,
 "nbformat_minor": 2
}
