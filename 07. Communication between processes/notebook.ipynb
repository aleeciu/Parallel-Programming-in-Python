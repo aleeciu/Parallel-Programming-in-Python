{
 "cells": [
  {
   "cell_type": "markdown",
   "metadata": {},
   "source": [
    "# Communication between processes\n",
    "\n",
    "> Effective use of multiple processes usually requires some communication between them, so that work can be divided and results can be aggregated.\n",
    "\n",
    "\n",
    "multiprocessing supports two types of communication channel between processes:\n",
    "\n",
    "- Queue\n",
    "- Pipe"
   ]
  }
 ],
 "metadata": {
  "kernelspec": {
   "display_name": "Python 3",
   "language": "python",
   "name": "python3"
  },
  "language_info": {
   "codemirror_mode": {
    "name": "ipython",
    "version": 3
   },
   "file_extension": ".py",
   "mimetype": "text/x-python",
   "name": "python",
   "nbconvert_exporter": "python",
   "pygments_lexer": "ipython3",
   "version": "3.6.7"
  }
 },
 "nbformat": 4,
 "nbformat_minor": 2
}
