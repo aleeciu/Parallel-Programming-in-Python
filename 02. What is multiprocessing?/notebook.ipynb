{
 "cells": [
  {
   "cell_type": "markdown",
   "metadata": {},
   "source": [
    "# Multiprocessing\n",
    "\n",
    "![](https://www.geeksforgeeks.org/wp-content/uploads/multiPROCESSINGjpg.jpg)\n",
    "\n",
    "## 1. What?\n",
    "\n",
    "> Multiprocessing refers to the ability of a system to support more than one processor at the same time. Applications in a multiprocessing system are broken to smaller routines that run independently. The operating system allocates these threads to the processors improving performance of the system.\n",
    "\n",
    "\n",
    "## 2. Why?\n",
    "\n",
    "> Consider a computer system with a single processor. If it is assigned several processes at the same time, it will have to interrupt each task and switch briefly to another, to keep all of the processes going.\n",
    "This situation is just like a chef working in a kitchen alone. He has to do several tasks like baking, stirring, kneading dough, etc.\n",
    "\n",
    "![](https://i2.wp.com/contribute.geeksforgeeks.org/wp-content/uploads/P1-Multitasking-300x136.png)\n",
    "\n",
    "> The more tasks you must do at once, the more difficult it gets to keep track of them all, and keeping the timing right becomes more of a challenge.\n",
    "\n",
    "## 3. How?\n",
    "\n",
    "**A multiprocessing system can have:**\n",
    "\n",
    "- multiprocessor, i.e. a computer with more than one central processor.\n",
    "- multi-core processor, i.e. a single computing component with two or more independent actual processing units (called “cores”).\n",
    "\n",
    "> Here, the CPU can easily executes several tasks at once, with each task using its own processor.\n",
    "It is just like the chef in last situation being assisted by his assistants. Now, they can divide the tasks among themselves and chef doesn’t need to switch between his tasks.\n",
    "\n",
    "\n",
    "![](https://i2.wp.com/contribute.geeksforgeeks.org/wp-content/uploads/P1-Multiprocessing-300x113.png)"
   ]
  }
 ],
 "metadata": {
  "kernelspec": {
   "display_name": "Python 3",
   "language": "python",
   "name": "python3"
  },
  "language_info": {
   "codemirror_mode": {
    "name": "ipython",
    "version": 3
   },
   "file_extension": ".py",
   "mimetype": "text/x-python",
   "name": "python",
   "nbconvert_exporter": "python",
   "pygments_lexer": "ipython3",
   "version": "3.6.7"
  }
 },
 "nbformat": 4,
 "nbformat_minor": 2
}
