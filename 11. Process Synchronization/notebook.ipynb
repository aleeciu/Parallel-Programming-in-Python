{
 "cells": [
  {
   "cell_type": "markdown",
   "metadata": {},
   "source": [
    "# Synchronization between processes\n",
    "\n",
    "> Process synchronization is defined as a mechanism which ensures that two or more concurrent processes do not simultaneously execute some particular program segment known as **critical section**.\n",
    "\n",
    "\n",
    "> Critical section refers to the parts of the program where the shared resource is accessed.\n",
    "\n",
    "![](https://upload.wikimedia.org/wikipedia/commons/a/a3/Multiple_Processes_Accessing_the_shared_resource.png)\n",
    "\n",
    "> Concurrent accesses to shared resource can lead to race condition.\n",
    "\n"
   ]
  },
  {
   "cell_type": "code",
   "execution_count": 1,
   "metadata": {},
   "outputs": [],
   "source": [
    "import multiprocessing"
   ]
  },
  {
   "cell_type": "code",
   "execution_count": 2,
   "metadata": {},
   "outputs": [],
   "source": [
    "def withdraw(balance, lock):\n",
    "    for _ in range(10000):\n",
    "        lock.acquire()\n",
    "        balance.value = balance.value - 1\n",
    "        lock.release()\n",
    "\n",
    "def deposit(balance, lock):\n",
    "    for _ in range(10000):\n",
    "        lock.acquire()\n",
    "        balance.value = balance.value + 1\n",
    "        lock.release()"
   ]
  },
  {
   "cell_type": "code",
   "execution_count": 3,
   "metadata": {},
   "outputs": [],
   "source": [
    "def perform_transactions():\n",
    "    balance = multiprocessing.Value('i', 100)\n",
    "    \n",
    "    lock = multiprocessing.Lock()\n",
    "    \n",
    "    p1 = multiprocessing.Process(target=withdraw, args=(balance, lock))\n",
    "    p2 = multiprocessing.Process(target=deposit, args=(balance, lock))\n",
    " \n",
    "    p1.start()\n",
    "    p2.start()\n",
    " \n",
    "    p1.join()\n",
    "    p2.join()\n",
    " \n",
    "    print(\"Final balance = {}\".format(balance.value))"
   ]
  },
  {
   "cell_type": "code",
   "execution_count": 4,
   "metadata": {},
   "outputs": [
    {
     "name": "stdout",
     "output_type": "stream",
     "text": [
      "Final balance = 100\n",
      "Final balance = 100\n",
      "Final balance = 100\n",
      "Final balance = 100\n",
      "Final balance = 100\n",
      "Final balance = 100\n",
      "Final balance = 100\n",
      "Final balance = 100\n",
      "Final balance = 100\n",
      "Final balance = 100\n"
     ]
    }
   ],
   "source": [
    "for _ in range(10):\n",
    "    perform_transactions()"
   ]
  },
  {
   "cell_type": "markdown",
   "metadata": {},
   "source": [
    "## Race condition:\n",
    "![](https://i0.wp.com/contribute.geeksforgeeks.org/wp-content/uploads/wrong_seq.png)\n",
    "\n",
    "## Locking:\n",
    "![](https://i0.wp.com/contribute.geeksforgeeks.org/wp-content/uploads/correct_seq2.png)\n",
    "![](https://i1.wp.com/contribute.geeksforgeeks.org/wp-content/uploads/correct_seq.png)"
   ]
  }
 ],
 "metadata": {
  "kernelspec": {
   "display_name": "Python 3",
   "language": "python",
   "name": "python3"
  },
  "language_info": {
   "codemirror_mode": {
    "name": "ipython",
    "version": 3
   },
   "file_extension": ".py",
   "mimetype": "text/x-python",
   "name": "python",
   "nbconvert_exporter": "python",
   "pygments_lexer": "ipython3",
   "version": "3.6.7"
  }
 },
 "nbformat": 4,
 "nbformat_minor": 2
}
